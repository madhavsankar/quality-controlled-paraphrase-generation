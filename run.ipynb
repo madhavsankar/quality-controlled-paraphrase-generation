{
 "cells": [
  {
   "cell_type": "code",
   "execution_count": null,
   "metadata": {
    "colab": {
     "base_uri": "https://localhost:8080/"
    },
    "id": "60_k0u0wob5r",
    "outputId": "17fdf9c3-481d-427f-8876-0e6095e01c76"
   },
   "outputs": [],
   "source": [
    "import sys\n",
    "import pandas as pd\n",
    "\n",
    "#Importing Drive (Only for colab)\n",
    "runningOnColab = 'google.colab' in sys.modules\n",
    "if runningOnColab:\n",
    "  from google.colab import drive\n",
    "  drive.mount('/content/drive')\n",
    "  %cd '/content/drive/Shareddrives/Capstone/quality-controlled-paraphrase-generation'\n",
    "\n"
   ]
  },
  {
   "cell_type": "code",
   "execution_count": null,
   "metadata": {
    "id": "ZypXZUm-SRFT"
   },
   "outputs": [],
   "source": [
    "import pandas as pd\n",
    "import os\n",
    "cwd = os.getcwd()\n",
    "os.environ['PYTHONPATH'] = cwd"
   ]
  },
  {
   "cell_type": "code",
   "execution_count": null,
   "metadata": {
    "colab": {
     "base_uri": "https://localhost:8080/"
    },
    "id": "GgLRX8fZosoK",
    "outputId": "0d8bbe9a-b37d-41cb-bf75-5f14508e97eb"
   },
   "outputs": [],
   "source": [
    "!pip install -r requirements.txt"
   ]
  },
  {
   "cell_type": "code",
   "execution_count": null,
   "metadata": {
    "colab": {
     "base_uri": "https://localhost:8080/"
    },
    "id": "NGrVYVXePBeN",
    "outputId": "89ab3671-fe97-4147-c3ec-0f264f24a0d2"
   },
   "outputs": [],
   "source": [
    "!pip install clearml"
   ]
  },
  {
   "cell_type": "code",
   "execution_count": null,
   "metadata": {},
   "outputs": [],
   "source": [
    "!apt-get install espeak"
   ]
  },
  {
   "cell_type": "markdown",
   "metadata": {
    "id": "PW0cEN9aJfcn"
   },
   "source": [
    "Prepare Data"
   ]
  },
  {
   "cell_type": "code",
   "execution_count": null,
   "metadata": {
    "colab": {
     "base_uri": "https://localhost:8080/"
    },
    "id": "voKiL4tvtf0U",
    "outputId": "e322bc43-cf9b-4bba-bb62-089f294f0f48"
   },
   "outputs": [],
   "source": [
    "!python QCPG/evaluate.py \\\n",
    "--train_file data/mscoco/train.csv.gz \\\n",
    "--dataset_split train \\\n",
    "--predictions_column source \\\n",
    "--references_column target \\\n",
    "--metric metrics/para_metric \\\n",
    "--output_path new_data/mscoco/train4.csv.gz"
   ]
  },
  {
   "cell_type": "code",
   "execution_count": null,
   "metadata": {
    "colab": {
     "base_uri": "https://localhost:8080/"
    },
    "id": "zv21OPStCpol",
    "outputId": "680697ff-c375-4345-e000-9857640f20fb"
   },
   "outputs": [],
   "source": [
    "!python QCPG/evaluate.py \\\n",
    "--train_file data/mscoco/validation.csv.gz \\\n",
    "--dataset_split train \\\n",
    "--predictions_column source \\\n",
    "--references_column target \\\n",
    "--metric metrics/para_metric \\\n",
    "--output_path new_data/mscoco/validation.csv.gz"
   ]
  },
  {
   "cell_type": "code",
   "execution_count": null,
   "metadata": {
    "colab": {
     "base_uri": "https://localhost:8080/"
    },
    "id": "W0zQwbTNCytB",
    "outputId": "65abc756-8785-43d0-df35-e9dfc1c6a603"
   },
   "outputs": [],
   "source": [
    "!python QCPG/evaluate.py \\\n",
    "--train_file data/mscoco/test.csv.gz \\\n",
    "--dataset_split train \\\n",
    "--predictions_column source \\\n",
    "--references_column target \\\n",
    "--metric metrics/para_metric \\\n",
    "--output_path new_data/mscoco/test.csv.gz"
   ]
  },
  {
   "cell_type": "markdown",
   "metadata": {},
   "source": [
    "Train"
   ]
  },
  {
   "cell_type": "code",
   "execution_count": null,
   "metadata": {
    "colab": {
     "base_uri": "https://localhost:8080/",
     "height": 1000
    },
    "id": "CAuFlS5VC5M8",
    "outputId": "86aab1fc-bc05-4824-ba6a-89995ae59f10"
   },
   "outputs": [],
   "source": [
    "!python QCPG/train.py --model_name_or_path t5-base \\\n",
    "--do_train --do_eval --source_column reference \\\n",
    "--target_column prediction --per_device_eval_batch_size 16 \\\n",
    "--per_device_train_batch_size 16 --predict_with_generate \\\n",
    "--evaluation_strategy epoch --num_train_epochs 6 \\\n",
    "--lr_scheduler_type constant --save_total_limit 1 \\\n",
    "--dataset_generate_mode force_redownload --dataset_keep_in_memory \\\n",
    "--conditions_columns '[\"semantic_sim\", \"lexical_div\", \"syntactic_div\", \"phonological_div\", \"morphological_div\"]' \\\n",
    "--overwrite_output_dir \\\n",
    "--dataset_map 'semantic_sim = 5 * round(bleurt_score * 100 / 5); lexical_div = 5 * round(set_diversity * 100 / 5); syntactic_div = 5 * round(syn_diversity * 100 / 5); phonological_div = 5 * round(phon_diversity * 100 / 5); morphological_div = 5 * round(morph_diversity * 100 / 5);' \\\n",
    "--train_file new_data/mscoco/train.csv.gz \\\n",
    "--validation_file new_data/mscoco/validation.csv.gz \\\n",
    "--learning_rate 1e-3 \\\n",
    "--output_dir new_data/t5-base-cond-mscoco-bleurt-lr1e-3-v1 \\\n",
    "--dataset_generate_mode force_redownload\n"
   ]
  },
  {
   "cell_type": "markdown",
   "metadata": {},
   "source": [
    "Inference"
   ]
  },
  {
   "cell_type": "code",
   "execution_count": null,
   "metadata": {
    "id": "FthAYJXBC9RB"
   },
   "outputs": [],
   "source": [
    "!python QCPG/predict.py \\\n",
    "--per_device_eval_batch_size 256 --per_device_train_batch_size 256 \\\n",
    "--source_column reference --target_column prediction \\\n",
    "--conditions_columns '[\"semantic_sim\", \"lexical_div\", \"syntactic_div\", \"phonological_div\", \"morphological_div\"]' \\\n",
    "--dataset_map 'semantic_sim = 5 * round(bleurt_score * 100 / 5); lexical_div = 5 * round(set_diversity * 100 / 5); syntactic_div = 5 * round(syn_diversity * 100 / 5); phonological_div = 5 * round(phon_diversity * 100 / 5); morphological_div = 5 * round(morph_diversity * 100 / 5);' \\\n",
    "--train_file new_data/mscoco/validation.csv.gz \\\n",
    "--dataset_split train \\\n",
    "--model_name_or_path new_data/t5-base-cond-mscoco-bleurt-lr1e-3-v1 \\\n",
    "--output_dir new_data/validation/t5-base-cond-mscoco-bleurt-lr1e-3-v1"
   ]
  }
 ],
 "metadata": {
  "colab": {
   "collapsed_sections": [],
   "provenance": []
  },
  "kernelspec": {
   "display_name": "Python 3 (ipykernel)",
   "language": "python",
   "name": "python3"
  },
  "language_info": {
   "codemirror_mode": {
    "name": "ipython",
    "version": 3
   },
   "file_extension": ".py",
   "mimetype": "text/x-python",
   "name": "python",
   "nbconvert_exporter": "python",
   "pygments_lexer": "ipython3",
   "version": "3.9.7"
  },
  "vscode": {
   "interpreter": {
    "hash": "b0fa6594d8f4cbf19f97940f81e996739fb7646882a419484c72d19e05852a7e"
   }
  }
 },
 "nbformat": 4,
 "nbformat_minor": 1
}
