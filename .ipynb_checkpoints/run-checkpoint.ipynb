{
 "cells": [
  {
   "cell_type": "code",
   "execution_count": 1,
   "metadata": {
    "colab": {
     "base_uri": "https://localhost:8080/"
    },
    "id": "60_k0u0wob5r",
    "outputId": "17fdf9c3-481d-427f-8876-0e6095e01c76"
   },
   "outputs": [],
   "source": [
    "import sys\n",
    "import pandas as pd\n",
    "\n",
    "#Importing Drive (Only for colab)\n",
    "runningOnColab = 'google.colab' in sys.modules\n",
    "if runningOnColab:\n",
    "  from google.colab import drive\n",
    "  drive.mount('/content/drive')\n",
    "  %cd '/content/drive/Shareddrives/Capstone/quality-controlled-paraphrase-generation'\n",
    "\n"
   ]
  },
  {
   "cell_type": "code",
   "execution_count": 2,
   "metadata": {
    "id": "ZypXZUm-SRFT"
   },
   "outputs": [],
   "source": [
    "import pandas as pd\n",
    "import os\n",
    "cwd = os.getcwd()\n",
    "os.environ['PYTHONPATH'] = cwd"
   ]
  },
  {
   "cell_type": "code",
   "execution_count": 3,
   "metadata": {
    "colab": {
     "base_uri": "https://localhost:8080/"
    },
    "id": "GgLRX8fZosoK",
    "outputId": "0d8bbe9a-b37d-41cb-bf75-5f14508e97eb"
   },
   "outputs": [
    {
     "name": "stdout",
     "output_type": "stream",
     "text": [
      "Requirement already satisfied: datasets==1.7.0 in /Users/madhavsankar/opt/anaconda3/lib/python3.9/site-packages (from -r requirements.txt (line 1)) (1.7.0)\n",
      "Requirement already satisfied: transformers==4.6.1 in /Users/madhavsankar/opt/anaconda3/lib/python3.9/site-packages (from -r requirements.txt (line 2)) (4.6.1)\n",
      "Requirement already satisfied: tensorboard>=2.5.0 in /Users/madhavsankar/opt/anaconda3/lib/python3.9/site-packages (from -r requirements.txt (line 3)) (2.5.0)\n",
      "Requirement already satisfied: sacrebleu==1.5.1 in /Users/madhavsankar/opt/anaconda3/lib/python3.9/site-packages (from -r requirements.txt (line 4)) (1.5.1)\n",
      "Requirement already satisfied: Levenshtein==0.18.1 in /Users/madhavsankar/opt/anaconda3/lib/python3.9/site-packages (from -r requirements.txt (line 5)) (0.18.1)\n",
      "Requirement already satisfied: benepar==0.2.0 in /Users/madhavsankar/opt/anaconda3/lib/python3.9/site-packages (from -r requirements.txt (line 6)) (0.2.0)\n",
      "Requirement already satisfied: apted==1.0.3 in /Users/madhavsankar/opt/anaconda3/lib/python3.9/site-packages (from -r requirements.txt (line 7)) (1.0.3)\n",
      "Requirement already satisfied: bert_score==0.3.11 in /Users/madhavsankar/opt/anaconda3/lib/python3.9/site-packages (from -r requirements.txt (line 8)) (0.3.11)\n",
      "Requirement already satisfied: sentencepiece==0.1.96 in /Users/madhavsankar/opt/anaconda3/lib/python3.9/site-packages (from -r requirements.txt (line 9)) (0.1.96)\n",
      "Requirement already satisfied: pyarrow<4.0.0,>=1.0.0 in /Users/madhavsankar/opt/anaconda3/lib/python3.9/site-packages (from datasets==1.7.0->-r requirements.txt (line 1)) (3.0.0)\n",
      "Requirement already satisfied: tqdm<4.50.0,>=4.27 in /Users/madhavsankar/opt/anaconda3/lib/python3.9/site-packages (from datasets==1.7.0->-r requirements.txt (line 1)) (4.49.0)\n",
      "Requirement already satisfied: huggingface-hub<0.1.0 in /Users/madhavsankar/opt/anaconda3/lib/python3.9/site-packages (from datasets==1.7.0->-r requirements.txt (line 1)) (0.0.8)\n",
      "Requirement already satisfied: numpy>=1.17 in /Users/madhavsankar/opt/anaconda3/lib/python3.9/site-packages (from datasets==1.7.0->-r requirements.txt (line 1)) (1.20.3)\n",
      "Requirement already satisfied: pandas in /Users/madhavsankar/opt/anaconda3/lib/python3.9/site-packages (from datasets==1.7.0->-r requirements.txt (line 1)) (1.3.4)\n",
      "Requirement already satisfied: dill in /Users/madhavsankar/opt/anaconda3/lib/python3.9/site-packages (from datasets==1.7.0->-r requirements.txt (line 1)) (0.3.6)\n",
      "Requirement already satisfied: requests>=2.19.0 in /Users/madhavsankar/opt/anaconda3/lib/python3.9/site-packages (from datasets==1.7.0->-r requirements.txt (line 1)) (2.26.0)\n",
      "Requirement already satisfied: multiprocess in /Users/madhavsankar/opt/anaconda3/lib/python3.9/site-packages (from datasets==1.7.0->-r requirements.txt (line 1)) (0.70.14)\n",
      "Requirement already satisfied: packaging in /Users/madhavsankar/opt/anaconda3/lib/python3.9/site-packages (from datasets==1.7.0->-r requirements.txt (line 1)) (21.0)\n",
      "Requirement already satisfied: fsspec in /Users/madhavsankar/opt/anaconda3/lib/python3.9/site-packages (from datasets==1.7.0->-r requirements.txt (line 1)) (2021.8.1)\n",
      "Requirement already satisfied: xxhash in /Users/madhavsankar/opt/anaconda3/lib/python3.9/site-packages (from datasets==1.7.0->-r requirements.txt (line 1)) (3.1.0)\n",
      "Requirement already satisfied: filelock in /Users/madhavsankar/opt/anaconda3/lib/python3.9/site-packages (from transformers==4.6.1->-r requirements.txt (line 2)) (3.3.1)\n",
      "Requirement already satisfied: tokenizers<0.11,>=0.10.1 in /Users/madhavsankar/opt/anaconda3/lib/python3.9/site-packages (from transformers==4.6.1->-r requirements.txt (line 2)) (0.10.3)\n",
      "Requirement already satisfied: sacremoses in /Users/madhavsankar/opt/anaconda3/lib/python3.9/site-packages (from transformers==4.6.1->-r requirements.txt (line 2)) (0.0.47)\n",
      "Requirement already satisfied: regex!=2019.12.17 in /Users/madhavsankar/opt/anaconda3/lib/python3.9/site-packages (from transformers==4.6.1->-r requirements.txt (line 2)) (2021.8.3)\n",
      "Requirement already satisfied: portalocker==2.0.0 in /Users/madhavsankar/opt/anaconda3/lib/python3.9/site-packages (from sacrebleu==1.5.1->-r requirements.txt (line 4)) (2.0.0)\n",
      "Requirement already satisfied: rapidfuzz<3.0.0,>=2.0.1 in /Users/madhavsankar/opt/anaconda3/lib/python3.9/site-packages (from Levenshtein==0.18.1->-r requirements.txt (line 5)) (2.13.2)\n",
      "Requirement already satisfied: torch>=1.6.0 in /Users/madhavsankar/opt/anaconda3/lib/python3.9/site-packages (from benepar==0.2.0->-r requirements.txt (line 6)) (1.11.0)\n",
      "Requirement already satisfied: torch-struct>=0.5 in /Users/madhavsankar/opt/anaconda3/lib/python3.9/site-packages (from benepar==0.2.0->-r requirements.txt (line 6)) (0.5)\n",
      "Requirement already satisfied: spacy>=2.0.9 in /Users/madhavsankar/opt/anaconda3/lib/python3.9/site-packages (from benepar==0.2.0->-r requirements.txt (line 6)) (3.4.2)\n",
      "Requirement already satisfied: protobuf in /Users/madhavsankar/opt/anaconda3/lib/python3.9/site-packages (from benepar==0.2.0->-r requirements.txt (line 6)) (3.19.3)\n",
      "Requirement already satisfied: nltk>=3.2 in /Users/madhavsankar/opt/anaconda3/lib/python3.9/site-packages (from benepar==0.2.0->-r requirements.txt (line 6)) (3.6.5)\n",
      "Requirement already satisfied: matplotlib in /Users/madhavsankar/opt/anaconda3/lib/python3.9/site-packages (from bert_score==0.3.11->-r requirements.txt (line 8)) (3.4.3)\n",
      "Requirement already satisfied: wheel>=0.26 in /Users/madhavsankar/opt/anaconda3/lib/python3.9/site-packages (from tensorboard>=2.5.0->-r requirements.txt (line 3)) (0.37.0)\n",
      "Requirement already satisfied: werkzeug>=0.11.15 in /Users/madhavsankar/opt/anaconda3/lib/python3.9/site-packages (from tensorboard>=2.5.0->-r requirements.txt (line 3)) (2.0.2)\n",
      "Requirement already satisfied: absl-py>=0.4 in /Users/madhavsankar/opt/anaconda3/lib/python3.9/site-packages (from tensorboard>=2.5.0->-r requirements.txt (line 3)) (1.0.0)\n",
      "Requirement already satisfied: grpcio>=1.24.3 in /Users/madhavsankar/opt/anaconda3/lib/python3.9/site-packages (from tensorboard>=2.5.0->-r requirements.txt (line 3)) (1.43.0)\n",
      "Requirement already satisfied: tensorboard-data-server<0.7.0,>=0.6.0 in /Users/madhavsankar/opt/anaconda3/lib/python3.9/site-packages (from tensorboard>=2.5.0->-r requirements.txt (line 3)) (0.6.1)\n",
      "Requirement already satisfied: google-auth-oauthlib<0.5,>=0.4.1 in /Users/madhavsankar/opt/anaconda3/lib/python3.9/site-packages (from tensorboard>=2.5.0->-r requirements.txt (line 3)) (0.4.6)\n",
      "Requirement already satisfied: google-auth<2,>=1.6.3 in /Users/madhavsankar/opt/anaconda3/lib/python3.9/site-packages (from tensorboard>=2.5.0->-r requirements.txt (line 3)) (1.35.0)\n",
      "Requirement already satisfied: setuptools>=41.0.0 in /Users/madhavsankar/opt/anaconda3/lib/python3.9/site-packages (from tensorboard>=2.5.0->-r requirements.txt (line 3)) (58.0.4)\n",
      "Requirement already satisfied: markdown>=2.6.8 in /Users/madhavsankar/opt/anaconda3/lib/python3.9/site-packages (from tensorboard>=2.5.0->-r requirements.txt (line 3)) (3.3.6)\n",
      "Requirement already satisfied: tensorboard-plugin-wit>=1.6.0 in /Users/madhavsankar/opt/anaconda3/lib/python3.9/site-packages (from tensorboard>=2.5.0->-r requirements.txt (line 3)) (1.8.1)\n",
      "Requirement already satisfied: six in /Users/madhavsankar/opt/anaconda3/lib/python3.9/site-packages (from absl-py>=0.4->tensorboard>=2.5.0->-r requirements.txt (line 3)) (1.16.0)\n",
      "Requirement already satisfied: cachetools<5.0,>=2.0.0 in /Users/madhavsankar/opt/anaconda3/lib/python3.9/site-packages (from google-auth<2,>=1.6.3->tensorboard>=2.5.0->-r requirements.txt (line 3)) (4.2.4)\n",
      "Requirement already satisfied: rsa<5,>=3.1.4 in /Users/madhavsankar/opt/anaconda3/lib/python3.9/site-packages (from google-auth<2,>=1.6.3->tensorboard>=2.5.0->-r requirements.txt (line 3)) (4.8)\n",
      "Requirement already satisfied: pyasn1-modules>=0.2.1 in /Users/madhavsankar/opt/anaconda3/lib/python3.9/site-packages (from google-auth<2,>=1.6.3->tensorboard>=2.5.0->-r requirements.txt (line 3)) (0.2.8)\n",
      "Requirement already satisfied: requests-oauthlib>=0.7.0 in /Users/madhavsankar/opt/anaconda3/lib/python3.9/site-packages (from google-auth-oauthlib<0.5,>=0.4.1->tensorboard>=2.5.0->-r requirements.txt (line 3)) (1.3.1)\n",
      "Requirement already satisfied: importlib-metadata>=4.4 in /Users/madhavsankar/opt/anaconda3/lib/python3.9/site-packages (from markdown>=2.6.8->tensorboard>=2.5.0->-r requirements.txt (line 3)) (4.8.1)\n",
      "Requirement already satisfied: click in /Users/madhavsankar/opt/anaconda3/lib/python3.9/site-packages (from nltk>=3.2->benepar==0.2.0->-r requirements.txt (line 6)) (8.0.3)\n",
      "Requirement already satisfied: joblib in /Users/madhavsankar/opt/anaconda3/lib/python3.9/site-packages (from nltk>=3.2->benepar==0.2.0->-r requirements.txt (line 6)) (1.0.1)\n",
      "Requirement already satisfied: pyparsing>=2.0.2 in /Users/madhavsankar/opt/anaconda3/lib/python3.9/site-packages (from packaging->datasets==1.7.0->-r requirements.txt (line 1)) (3.0.4)\n"
     ]
    },
    {
     "name": "stdout",
     "output_type": "stream",
     "text": [
      "Requirement already satisfied: python-dateutil>=2.7.3 in /Users/madhavsankar/opt/anaconda3/lib/python3.9/site-packages (from pandas->datasets==1.7.0->-r requirements.txt (line 1)) (2.8.2)\n",
      "Requirement already satisfied: pytz>=2017.3 in /Users/madhavsankar/opt/anaconda3/lib/python3.9/site-packages (from pandas->datasets==1.7.0->-r requirements.txt (line 1)) (2021.3)\n",
      "Requirement already satisfied: idna<4,>=2.5 in /Users/madhavsankar/opt/anaconda3/lib/python3.9/site-packages (from requests>=2.19.0->datasets==1.7.0->-r requirements.txt (line 1)) (2.10)\n",
      "Requirement already satisfied: urllib3<1.27,>=1.21.1 in /Users/madhavsankar/opt/anaconda3/lib/python3.9/site-packages (from requests>=2.19.0->datasets==1.7.0->-r requirements.txt (line 1)) (1.26.7)\n",
      "Requirement already satisfied: charset-normalizer~=2.0.0 in /Users/madhavsankar/opt/anaconda3/lib/python3.9/site-packages (from requests>=2.19.0->datasets==1.7.0->-r requirements.txt (line 1)) (2.0.4)\n",
      "Requirement already satisfied: certifi>=2017.4.17 in /Users/madhavsankar/opt/anaconda3/lib/python3.9/site-packages (from requests>=2.19.0->datasets==1.7.0->-r requirements.txt (line 1)) (2021.5.30)\n",
      "Requirement already satisfied: cymem<2.1.0,>=2.0.2 in /Users/madhavsankar/opt/anaconda3/lib/python3.9/site-packages (from spacy>=2.0.9->benepar==0.2.0->-r requirements.txt (line 6)) (2.0.7)\n",
      "Requirement already satisfied: pydantic!=1.8,!=1.8.1,<1.11.0,>=1.7.4 in /Users/madhavsankar/opt/anaconda3/lib/python3.9/site-packages (from spacy>=2.0.9->benepar==0.2.0->-r requirements.txt (line 6)) (1.8.2)\n",
      "Requirement already satisfied: langcodes<4.0.0,>=3.2.0 in /Users/madhavsankar/opt/anaconda3/lib/python3.9/site-packages (from spacy>=2.0.9->benepar==0.2.0->-r requirements.txt (line 6)) (3.3.0)\n",
      "Requirement already satisfied: murmurhash<1.1.0,>=0.28.0 in /Users/madhavsankar/opt/anaconda3/lib/python3.9/site-packages (from spacy>=2.0.9->benepar==0.2.0->-r requirements.txt (line 6)) (1.0.9)\n",
      "Requirement already satisfied: spacy-legacy<3.1.0,>=3.0.10 in /Users/madhavsankar/opt/anaconda3/lib/python3.9/site-packages (from spacy>=2.0.9->benepar==0.2.0->-r requirements.txt (line 6)) (3.0.10)\n",
      "Requirement already satisfied: preshed<3.1.0,>=3.0.2 in /Users/madhavsankar/opt/anaconda3/lib/python3.9/site-packages (from spacy>=2.0.9->benepar==0.2.0->-r requirements.txt (line 6)) (3.0.8)\n",
      "Requirement already satisfied: thinc<8.2.0,>=8.1.0 in /Users/madhavsankar/opt/anaconda3/lib/python3.9/site-packages (from spacy>=2.0.9->benepar==0.2.0->-r requirements.txt (line 6)) (8.1.5)\n",
      "Requirement already satisfied: typer<0.5.0,>=0.3.0 in /Users/madhavsankar/opt/anaconda3/lib/python3.9/site-packages (from spacy>=2.0.9->benepar==0.2.0->-r requirements.txt (line 6)) (0.4.2)\n",
      "Requirement already satisfied: spacy-loggers<2.0.0,>=1.0.0 in /Users/madhavsankar/opt/anaconda3/lib/python3.9/site-packages (from spacy>=2.0.9->benepar==0.2.0->-r requirements.txt (line 6)) (1.0.3)\n",
      "Requirement already satisfied: catalogue<2.1.0,>=2.0.6 in /Users/madhavsankar/opt/anaconda3/lib/python3.9/site-packages (from spacy>=2.0.9->benepar==0.2.0->-r requirements.txt (line 6)) (2.0.8)\n",
      "Requirement already satisfied: pathy>=0.3.5 in /Users/madhavsankar/opt/anaconda3/lib/python3.9/site-packages (from spacy>=2.0.9->benepar==0.2.0->-r requirements.txt (line 6)) (0.6.2)\n",
      "Requirement already satisfied: jinja2 in /Users/madhavsankar/opt/anaconda3/lib/python3.9/site-packages (from spacy>=2.0.9->benepar==0.2.0->-r requirements.txt (line 6)) (2.11.3)\n",
      "Requirement already satisfied: wasabi<1.1.0,>=0.9.1 in /Users/madhavsankar/opt/anaconda3/lib/python3.9/site-packages (from spacy>=2.0.9->benepar==0.2.0->-r requirements.txt (line 6)) (0.10.1)\n",
      "Requirement already satisfied: srsly<3.0.0,>=2.4.3 in /Users/madhavsankar/opt/anaconda3/lib/python3.9/site-packages (from spacy>=2.0.9->benepar==0.2.0->-r requirements.txt (line 6)) (2.4.5)\n",
      "Requirement already satisfied: typing-extensions in /Users/madhavsankar/opt/anaconda3/lib/python3.9/site-packages (from torch>=1.6.0->benepar==0.2.0->-r requirements.txt (line 6)) (4.2.0)\n",
      "Requirement already satisfied: kiwisolver>=1.0.1 in /Users/madhavsankar/opt/anaconda3/lib/python3.9/site-packages (from matplotlib->bert_score==0.3.11->-r requirements.txt (line 8)) (1.3.1)\n",
      "Requirement already satisfied: cycler>=0.10 in /Users/madhavsankar/opt/anaconda3/lib/python3.9/site-packages (from matplotlib->bert_score==0.3.11->-r requirements.txt (line 8)) (0.10.0)\n",
      "Requirement already satisfied: pillow>=6.2.0 in /Users/madhavsankar/opt/anaconda3/lib/python3.9/site-packages (from matplotlib->bert_score==0.3.11->-r requirements.txt (line 8)) (8.4.0)\n",
      "Requirement already satisfied: zipp>=0.5 in /Users/madhavsankar/opt/anaconda3/lib/python3.9/site-packages (from importlib-metadata>=4.4->markdown>=2.6.8->tensorboard>=2.5.0->-r requirements.txt (line 3)) (3.6.0)\n",
      "Requirement already satisfied: smart-open<6.0.0,>=5.2.1 in /Users/madhavsankar/opt/anaconda3/lib/python3.9/site-packages (from pathy>=0.3.5->spacy>=2.0.9->benepar==0.2.0->-r requirements.txt (line 6)) (5.2.1)\n",
      "Requirement already satisfied: pyasn1<0.5.0,>=0.4.6 in /Users/madhavsankar/opt/anaconda3/lib/python3.9/site-packages (from pyasn1-modules>=0.2.1->google-auth<2,>=1.6.3->tensorboard>=2.5.0->-r requirements.txt (line 3)) (0.4.8)\n",
      "Requirement already satisfied: oauthlib>=3.0.0 in /Users/madhavsankar/opt/anaconda3/lib/python3.9/site-packages (from requests-oauthlib>=0.7.0->google-auth-oauthlib<0.5,>=0.4.1->tensorboard>=2.5.0->-r requirements.txt (line 3)) (3.2.0)\n",
      "Requirement already satisfied: confection<1.0.0,>=0.0.1 in /Users/madhavsankar/opt/anaconda3/lib/python3.9/site-packages (from thinc<8.2.0,>=8.1.0->spacy>=2.0.9->benepar==0.2.0->-r requirements.txt (line 6)) (0.0.3)\n",
      "Requirement already satisfied: blis<0.8.0,>=0.7.8 in /Users/madhavsankar/opt/anaconda3/lib/python3.9/site-packages (from thinc<8.2.0,>=8.1.0->spacy>=2.0.9->benepar==0.2.0->-r requirements.txt (line 6)) (0.7.9)\n",
      "Requirement already satisfied: MarkupSafe>=0.23 in /Users/madhavsankar/opt/anaconda3/lib/python3.9/site-packages (from jinja2->spacy>=2.0.9->benepar==0.2.0->-r requirements.txt (line 6)) (2.0.1)\n",
      "\u001b[33mWARNING: You are using pip version 22.0.3; however, version 22.3.1 is available.\n",
      "You should consider upgrading via the '/Users/madhavsankar/opt/anaconda3/bin/python -m pip install --upgrade pip' command.\u001b[0m\u001b[33m\n",
      "\u001b[0m"
     ]
    }
   ],
   "source": [
    "!pip install -r requirements.txt"
   ]
  },
  {
   "cell_type": "code",
   "execution_count": 4,
   "metadata": {
    "colab": {
     "base_uri": "https://localhost:8080/"
    },
    "id": "NGrVYVXePBeN",
    "outputId": "89ab3671-fe97-4147-c3ec-0f264f24a0d2"
   },
   "outputs": [
    {
     "name": "stdout",
     "output_type": "stream",
     "text": [
      "Requirement already satisfied: clearml in /Users/madhavsankar/opt/anaconda3/lib/python3.9/site-packages (1.7.2)\n",
      "Requirement already satisfied: Pillow>=4.1.1 in /Users/madhavsankar/opt/anaconda3/lib/python3.9/site-packages (from clearml) (8.4.0)\n",
      "Requirement already satisfied: requests>=2.20.0 in /Users/madhavsankar/opt/anaconda3/lib/python3.9/site-packages (from clearml) (2.26.0)\n",
      "Requirement already satisfied: jsonschema>=2.6.0 in /Users/madhavsankar/opt/anaconda3/lib/python3.9/site-packages (from clearml) (3.2.0)\n",
      "Requirement already satisfied: furl>=2.0.0 in /Users/madhavsankar/opt/anaconda3/lib/python3.9/site-packages (from clearml) (2.1.3)\n",
      "Requirement already satisfied: pathlib2>=2.3.0 in /Users/madhavsankar/opt/anaconda3/lib/python3.9/site-packages (from clearml) (2.3.6)\n",
      "Requirement already satisfied: psutil>=3.4.2 in /Users/madhavsankar/opt/anaconda3/lib/python3.9/site-packages (from clearml) (5.8.0)\n",
      "Requirement already satisfied: pyparsing>=2.0.3 in /Users/madhavsankar/opt/anaconda3/lib/python3.9/site-packages (from clearml) (3.0.4)\n",
      "Requirement already satisfied: attrs>=18.0 in /Users/madhavsankar/opt/anaconda3/lib/python3.9/site-packages (from clearml) (20.3.0)\n",
      "Requirement already satisfied: python-dateutil>=2.6.1 in /Users/madhavsankar/opt/anaconda3/lib/python3.9/site-packages (from clearml) (2.8.2)\n",
      "Requirement already satisfied: urllib3>=1.21.1 in /Users/madhavsankar/opt/anaconda3/lib/python3.9/site-packages (from clearml) (1.26.7)\n",
      "Requirement already satisfied: PyYAML>=3.12 in /Users/madhavsankar/opt/anaconda3/lib/python3.9/site-packages (from clearml) (6.0)\n",
      "Requirement already satisfied: six>=1.13.0 in /Users/madhavsankar/opt/anaconda3/lib/python3.9/site-packages (from clearml) (1.16.0)\n",
      "Requirement already satisfied: numpy>=1.10 in /Users/madhavsankar/opt/anaconda3/lib/python3.9/site-packages (from clearml) (1.20.3)\n",
      "Requirement already satisfied: pyjwt<2.5.0,>=2.4.0 in /Users/madhavsankar/opt/anaconda3/lib/python3.9/site-packages (from clearml) (2.4.0)\n",
      "Requirement already satisfied: orderedmultidict>=1.0.1 in /Users/madhavsankar/opt/anaconda3/lib/python3.9/site-packages (from furl>=2.0.0->clearml) (1.0.1)\n",
      "Requirement already satisfied: setuptools in /Users/madhavsankar/opt/anaconda3/lib/python3.9/site-packages (from jsonschema>=2.6.0->clearml) (58.0.4)\n",
      "Requirement already satisfied: pyrsistent>=0.14.0 in /Users/madhavsankar/opt/anaconda3/lib/python3.9/site-packages (from jsonschema>=2.6.0->clearml) (0.18.0)\n",
      "Requirement already satisfied: charset-normalizer~=2.0.0 in /Users/madhavsankar/opt/anaconda3/lib/python3.9/site-packages (from requests>=2.20.0->clearml) (2.0.4)\n",
      "Requirement already satisfied: idna<4,>=2.5 in /Users/madhavsankar/opt/anaconda3/lib/python3.9/site-packages (from requests>=2.20.0->clearml) (2.10)\n",
      "Requirement already satisfied: certifi>=2017.4.17 in /Users/madhavsankar/opt/anaconda3/lib/python3.9/site-packages (from requests>=2.20.0->clearml) (2021.5.30)\n",
      "\u001b[33mWARNING: You are using pip version 22.0.3; however, version 22.3.1 is available.\n",
      "You should consider upgrading via the '/Users/madhavsankar/opt/anaconda3/bin/python -m pip install --upgrade pip' command.\u001b[0m\u001b[33m\n",
      "\u001b[0m"
     ]
    }
   ],
   "source": [
    "!pip install clearml"
   ]
  },
  {
   "cell_type": "markdown",
   "metadata": {
    "id": "PW0cEN9aJfcn"
   },
   "source": [
    "Prepare Data"
   ]
  },
  {
   "cell_type": "code",
   "execution_count": null,
   "metadata": {
    "colab": {
     "base_uri": "https://localhost:8080/"
    },
    "id": "voKiL4tvtf0U",
    "outputId": "e322bc43-cf9b-4bba-bb62-089f294f0f48"
   },
   "outputs": [
    {
     "name": "stdout",
     "output_type": "stream",
     "text": [
      "Using custom data configuration default-6f69b45ba82c3c09\r\n",
      "Reusing dataset csv (/Users/madhavsankar/.cache/huggingface/datasets/csv/default-6f69b45ba82c3c09/0.0.0/2dc6629a9ff6b5697d82c25b73731dd440507a69cbce8b425db50b751e8fcfd0)\r\n"
     ]
    }
   ],
   "source": [
    "!python QCPG/evaluate.py \\\n",
    "--train_file data/mscoco/train.csv.gz \\\n",
    "--dataset_split train \\\n",
    "--predictions_column source \\\n",
    "--references_column target \\\n",
    "--metric metrics/para_metric \\\n",
    "--output_path new_data/mscoco/train.csv.gz"
   ]
  },
  {
   "cell_type": "code",
   "execution_count": null,
   "metadata": {
    "colab": {
     "base_uri": "https://localhost:8080/"
    },
    "id": "zv21OPStCpol",
    "outputId": "680697ff-c375-4345-e000-9857640f20fb"
   },
   "outputs": [],
   "source": [
    "!python QCPG/evaluate.py \\\n",
    "--train_file data/mscoco/validation.csv.gz \\\n",
    "--dataset_split train \\\n",
    "--predictions_column source \\\n",
    "--references_column target \\\n",
    "--metric metrics/para_metric \\\n",
    "--output_path new_data/mscoco/validation.csv.gz"
   ]
  },
  {
   "cell_type": "code",
   "execution_count": null,
   "metadata": {
    "colab": {
     "base_uri": "https://localhost:8080/"
    },
    "id": "W0zQwbTNCytB",
    "outputId": "65abc756-8785-43d0-df35-e9dfc1c6a603"
   },
   "outputs": [],
   "source": [
    "!python QCPG/evaluate.py \\\n",
    "--train_file data/mscoco/test.csv.gz \\\n",
    "--dataset_split train \\\n",
    "--predictions_column source \\\n",
    "--references_column target \\\n",
    "--metric metrics/para_metric \\\n",
    "--output_path new_data/mscoco/test.csv.gz"
   ]
  },
  {
   "cell_type": "markdown",
   "metadata": {},
   "source": [
    "Train"
   ]
  },
  {
   "cell_type": "code",
   "execution_count": null,
   "metadata": {
    "colab": {
     "base_uri": "https://localhost:8080/",
     "height": 1000
    },
    "id": "CAuFlS5VC5M8",
    "outputId": "86aab1fc-bc05-4824-ba6a-89995ae59f10"
   },
   "outputs": [],
   "source": [
    "!python QCPG/train.py --model_name_or_path t5-base \\\n",
    "--do_train --do_eval --source_column reference \\\n",
    "--target_column prediction --per_device_eval_batch_size 16 \\\n",
    "--per_device_train_batch_size 16 --predict_with_generate \\\n",
    "--evaluation_strategy epoch --num_train_epochs 6 \\\n",
    "--lr_scheduler_type constant --save_total_limit 1 \\\n",
    "--dataset_generate_mode force_redownload --dataset_keep_in_memory \\\n",
    "--conditions_columns '[\"semantic_sim\", \"lexical_div\", \"syntactic_div\", \"phonological_div\", \"morphological_div\"]' \\\n",
    "--overwrite_output_dir \\\n",
    "--dataset_map 'semantic_sim = 5 * round(bleurt_score * 100 / 5); lexical_div = 5 * round(set_diversity * 100 / 5); syntactic_div = 5 * round(syn_diversity * 100 / 5); phonological_div = 5 * round(phon_diversity * 100 / 5); morphological_div = 5 * round(morph_diversity * 100 / 5);' \\\n",
    "--train_file new_data/mscoco/train.csv.gz \\\n",
    "--validation_file new_data/mscoco/validation.csv.gz \\\n",
    "--learning_rate 1e-3 \\\n",
    "--output_dir new_data/t5-base-cond-mscoco-bleurt-lr1e-3-v1 \\\n",
    "--dataset_generate_mode force_redownload\n"
   ]
  },
  {
   "cell_type": "markdown",
   "metadata": {},
   "source": [
    "Inference"
   ]
  },
  {
   "cell_type": "code",
   "execution_count": null,
   "metadata": {
    "id": "FthAYJXBC9RB"
   },
   "outputs": [],
   "source": [
    "!python QCPG/predict.py \\\n",
    "--per_device_eval_batch_size 256 --per_device_train_batch_size 256 \\\n",
    "--source_column reference --target_column prediction \\\n",
    "--conditions_columns '[\"semantic_sim\", \"lexical_div\", \"syntactic_div\", \"phonological_div\", \"morphological_div\"]' \\\n",
    "--dataset_map 'semantic_sim = 5 * round(bleurt_score * 100 / 5); lexical_div = 5 * round(set_diversity * 100 / 5); syntactic_div = 5 * round(syn_diversity * 100 / 5); phonological_div = 5 * round(phon_diversity * 100 / 5); morphological_div = 5 * round(morph_diversity * 100 / 5);' \\\n",
    "--train_file new_data/mscoco/validation.csv.gz \\\n",
    "--dataset_split train \\\n",
    "--model_name_or_path new_data/t5-base-cond-mscoco-bleurt-lr1e-3-v1 \\\n",
    "--output_dir new_data/validation/t5-base-cond-mscoco-bleurt-lr1e-3-v1"
   ]
  }
 ],
 "metadata": {
  "colab": {
   "collapsed_sections": [],
   "provenance": []
  },
  "kernelspec": {
   "display_name": "Python 3 (ipykernel)",
   "language": "python",
   "name": "python3"
  },
  "language_info": {
   "codemirror_mode": {
    "name": "ipython",
    "version": 3
   },
   "file_extension": ".py",
   "mimetype": "text/x-python",
   "name": "python",
   "nbconvert_exporter": "python",
   "pygments_lexer": "ipython3",
   "version": "3.9.7"
  },
  "vscode": {
   "interpreter": {
    "hash": "b0fa6594d8f4cbf19f97940f81e996739fb7646882a419484c72d19e05852a7e"
   }
  }
 },
 "nbformat": 4,
 "nbformat_minor": 1
}
